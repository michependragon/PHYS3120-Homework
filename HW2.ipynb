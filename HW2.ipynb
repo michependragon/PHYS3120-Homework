{
 "cells": [
  {
   "cell_type": "markdown",
   "metadata": {},
   "source": [
    "<span style=\" font-family: Babas; font-size: 2em;\">Michelle Ukiwe  - Homework 2\n"
   ]
  },
  {
   "cell_type": "code",
   "execution_count": 2,
   "metadata": {},
   "outputs": [],
   "source": [
    "import math as math"
   ]
  },
  {
   "cell_type": "markdown",
   "metadata": {},
   "source": [
    "#### Altitude of a satellite:\n",
    "A satellite is to be launched into a circular orbit around the Earth so that it orbits the planet once every _T_ seconds. Treating the Earth as a perfect sphere with its center of mass in the middle (which is only approximately correct), it can shown with classical mechanics that the altitude _h_ above the Earth’s surface must be \n",
    "\n",
    "\\begin{equation}\n",
    "h = (\\frac{GMT^2}{4\\pi^2})^\\frac{1}{3} - R\n",
    "\\end{equation}\n",
    "\n",
    "\n",
    "\n"
   ]
  },
  {
   "cell_type": "markdown",
   "metadata": {},
   "source": [
    "where \\begin{equation}\n",
    "G = 6.67 × 10^{−11} m^3 kg^{-1} s^{−2} \n",
    "\\end{equation}\n",
    "\n",
    "is Newton’s gravitational constant, \n",
    "\\begin{equation}\n",
    "M = 5.97 × 10^{24} kg\n",
    "\\end{equation}is the Earth's mass, and \n",
    "\n",
    "\\begin{equation}\n",
    "R = 6371  km \n",
    "\\end{equation}\n",
    "is its radius."
   ]
  },
  {
   "cell_type": "markdown",
   "metadata": {},
   "source": [
    "__Part (a)__\\\n",
    "Write a program that asks the user to enter the desired value of _T_ and then calculates and prints out the corresponding altitude in meters"
   ]
  },
  {
   "cell_type": "code",
   "execution_count": 86,
   "metadata": {
    "collapsed": false,
    "jupyter": {
     "outputs_hidden": false
    }
   },
   "outputs": [
    {
     "name": "stdin",
     "output_type": "stream",
     "text": [
      "Enter in a value for T time in seconfds:  3\n"
     ]
    },
    {
     "name": "stdout",
     "output_type": "stream",
     "text": [
      "the altitude at 3.0 seconds is -6326057.111709947 meters\n"
     ]
    }
   ],
   "source": [
    "#defining a function that takes the time and outputs altitude\n",
    "def altitude(T):\n",
    "    #gravitational constant\n",
    "    grav = 6.67 * (10**(-11))\n",
    "    #the mass of the earth\n",
    "    mass = 5.97 * (10**24)\n",
    "    #the radius of the earth converted to meters\n",
    "    rad = 6371*1000\n",
    "    #the numerator of the altitude equation\n",
    "    numerator = (grav * mass * (T**2))\n",
    "    #the denominator of the equation\n",
    "    denominator = 4*((math.pi)**2)\n",
    "    #calculation of altitude\n",
    "    altitude = ((numerator/denominator)**(1/3)) - rad\n",
    "    #return the time and altitude\n",
    "    print(\"the altitude at \" + str(T) + \" seconds is \" + str(altitude) + \" meters\")\n",
    "#input for time\n",
    "T = float(input(\"Enter in a value for T time in seconds: \"))\n",
    "\n",
    "altitude(T)"
   ]
  },
  {
   "cell_type": "markdown",
   "metadata": {},
   "source": [
    "__Part (b)__\\\n",
    "Use your program to calculate the altitudes of satellites that orbit the Earth once a day (so-called “geosynchronous” orbit), once every 90 minutes, and once every 45 minutes. What do you conclude from the last of these calculations?"
   ]
  },
  {
   "cell_type": "code",
   "execution_count": 4,
   "metadata": {},
   "outputs": [],
   "source": [
    "#86400 minutes in a day\n",
    "daily = 86400\n",
    "#5400 minutes in a day\n",
    "ninety = 5400\n",
    "#2700 seconds\n",
    "fortyfive = 2700"
   ]
  },
  {
   "cell_type": "code",
   "execution_count": 83,
   "metadata": {},
   "outputs": [
    {
     "name": "stdout",
     "output_type": "stream",
     "text": [
      "the altitude at 86400 seconds is 35855910.17617497 meters\n"
     ]
    }
   ],
   "source": [
    "altitude(daily)"
   ]
  },
  {
   "cell_type": "code",
   "execution_count": 84,
   "metadata": {},
   "outputs": [
    {
     "name": "stdout",
     "output_type": "stream",
     "text": [
      "the altitude at 5400 seconds is 279321.62537285965 meters\n"
     ]
    }
   ],
   "source": [
    "altitude(ninety)"
   ]
  },
  {
   "cell_type": "code",
   "execution_count": 85,
   "metadata": {},
   "outputs": [
    {
     "name": "stdout",
     "output_type": "stream",
     "text": [
      "the altitude at 2700 seconds is -2181559.8978108233 meters\n"
     ]
    }
   ],
   "source": [
    "altitude(fortyfive)"
   ]
  },
  {
   "cell_type": "markdown",
   "metadata": {},
   "source": [
    "__Answers to part b in markdown__ \\\n",
    "daily orbit: the altitude at 86400 seconds is 35855910.17617497 meters \\\n",
    "90-minute orbit: the altitude at 5400 seconds is 279321.62537285965 meters \\\n",
    "45-minute orbit: the altitude at 2700 seconds is -2181559.8978108233 meters\n",
    "\n",
    "From this, it is shown that a satellite's altitude should be closer to Earth if the orbit is to be completed in a shorter amount of time and vice-versa"
   ]
  },
  {
   "cell_type": "markdown",
   "metadata": {},
   "source": [
    "__Part (c)__\\\n",
    "Technically a geosynchronous satellite is one that orbits the Earth once per _sidereal day_, which is 23.93 hours not 24 hours. Why is this? How much difference will it make to the altitude of the satellite?"
   ]
  },
  {
   "cell_type": "code",
   "execution_count": 9,
   "metadata": {},
   "outputs": [
    {
     "data": {
      "text/plain": [
       "86148.0"
      ]
     },
     "execution_count": 9,
     "metadata": {},
     "output_type": "execute_result"
    }
   ],
   "source": [
    "sidereal = 23.93*60*60\n",
    "#variable named sidereal that holds seconds in a sidreal day\n",
    "sidereal"
   ]
  },
  {
   "cell_type": "code",
   "execution_count": 87,
   "metadata": {},
   "outputs": [
    {
     "name": "stdout",
     "output_type": "stream",
     "text": [
      "the altitude at 86148.0 seconds is 35773762.329895645 meters\n"
     ]
    }
   ],
   "source": [
    "altitude(sidereal)"
   ]
  },
  {
   "cell_type": "code",
   "execution_count": 89,
   "metadata": {},
   "outputs": [
    {
     "data": {
      "text/plain": [
       "82147.8462793231"
      ]
     },
     "execution_count": 89,
     "metadata": {},
     "output_type": "execute_result"
    }
   ],
   "source": [
    "#altitude for a sidreal day\n",
    "alt2 = 35773762.329895645\n",
    "#altitude for a 24hr day\n",
    "alt1 = 35855910.17617497\n",
    "#returns difference\n",
    "diff = alt1 - alt2\n",
    "diff"
   ]
  },
  {
   "cell_type": "markdown",
   "metadata": {},
   "source": [
    "__Answer to part c in markdown__\n",
    "\n",
    "geosynchronous satellites orbit the earth once per sidereal day to mimic the Earth rotation on its axis. The difference in altitude for a satellite that orbits the Earth every sidereal day versus every twenty-four hours is approximately 82147.85 meters"
   ]
  },
  {
   "cell_type": "markdown",
   "metadata": {},
   "source": [
    "#### Special relativity:\n",
    "A spaceship travels from Earth in a straight line at a relativistic speed _v_ to another planet _x_ light-years away. Time dilation is a special relativistic effect. An observer with some speed _v_ relative to another observer will experience time progressing at a slower rate. Let ∆t′ be the time interval for the moving frame, and ∆t be the rest frame. They are related through \n"
   ]
  },
  {
   "cell_type": "markdown",
   "metadata": {},
   "source": [
    "\\begin{equation}\n",
    "∆t^′ = ∆t\\sqrt{(1-\\frac{v^2}{c^2})}\n",
    "\\end{equation}"
   ]
  },
  {
   "cell_type": "markdown",
   "metadata": {},
   "source": [
    "Write a program to ask the user for the value of _x_ and the speed _v_ as a fraction of the speed of light _c_. Print out the time in years that the spaceship takes to reach its destination "
   ]
  },
  {
   "cell_type": "markdown",
   "metadata": {},
   "source": [
    "__Part (a)__ \\\n",
    "in the rest frame of an observer on Earth "
   ]
  },
  {
   "cell_type": "code",
   "execution_count": 105,
   "metadata": {},
   "outputs": [],
   "source": [
    "#defining a function in which the rest frame is from the perspective of an observer on earth\n",
    "def restframe():\n",
    "    #asking user to input the distance from earth\n",
    "    distance = float(input(\"how many light years away is the planet from Earth?: \"))\n",
    "    #asking the user the speed of the spaceship\n",
    "    speed = float(input(\"enter the speed as a fraction of the speed of light: \"))\n",
    "    #calculating how long it will take the ship to reach its destination from a viewer on earth's perspective\n",
    "    propertime = distance / speed\n",
    "    #print the result\n",
    "    print(\"it will take the spaceship \" + str(propertime) + \" years to reach it's destination from the perspective of earth\")\n"
   ]
  },
  {
   "cell_type": "markdown",
   "metadata": {},
   "source": [
    "__Part (b)__\\\n",
    "as perceived by a passenger on board the ship. "
   ]
  },
  {
   "cell_type": "code",
   "execution_count": 106,
   "metadata": {},
   "outputs": [],
   "source": [
    "#defining a function that returns how long it takes for the viewer to reach their destination with the effects of time dilation taken into account\n",
    "def spaceshipframe():\n",
    "    #asking distance and speed\n",
    "    distance = float(input(\"how many light years away is the planet from Earth?: \"))\n",
    "    speed = float(input(\"enter the speed as a fraction of the speed of light: \"))\n",
    "    #calculating delta t, or proper time\n",
    "    propertime = distance / speed\n",
    "    #calculating delta t prime. c is 1, so its not included here\n",
    "    tprime = propertime *(math.sqrt(1 - (speed**2)))\n",
    "    #returning result\n",
    "    print(\"it will take the spaceship \" + str(tprime) + \" years to reach it's destination from the perspective of people on the spaceship\")\n"
   ]
  },
  {
   "cell_type": "markdown",
   "metadata": {},
   "source": [
    "Use your program to calculate the answers for a planet 10 light-years away with v = 0.99c."
   ]
  },
  {
   "cell_type": "code",
   "execution_count": 102,
   "metadata": {},
   "outputs": [
    {
     "name": "stdin",
     "output_type": "stream",
     "text": [
      "how many light years away is the planet from Earth?:  10\n",
      "enter the speed as a fraction of the speed of light:  0.99\n"
     ]
    },
    {
     "name": "stdout",
     "output_type": "stream",
     "text": [
      "it will take the spaceship 10.1010101010101 years to reach it's destination from the perspective of earth\n"
     ]
    }
   ],
   "source": [
    "restframe()"
   ]
  },
  {
   "cell_type": "code",
   "execution_count": 103,
   "metadata": {},
   "outputs": [
    {
     "name": "stdin",
     "output_type": "stream",
     "text": [
      "how many light years away is the planet from Earth?:  10\n",
      "enter the speed as a fraction of the speed of light:  0.99\n"
     ]
    },
    {
     "name": "stdout",
     "output_type": "stream",
     "text": [
      "it will take the spaceship 48.98979485566356 years to reach it's destination from the perspective of people on the spaceship\n"
     ]
    }
   ],
   "source": [
    "spaceshipframe()"
   ]
  },
  {
   "cell_type": "markdown",
   "metadata": {},
   "source": [
    "results for a planet 10 light-years away with v = 0.99c.\n",
    "\n",
    "it will take the spaceship 10.1010101010101 years to reach it's destination from the perspective of earth\n",
    "\n",
    "it will take the spaceship 48.98979485566356 years to reach it's destination from the perspective of people on the spaceship\n"
   ]
  },
  {
   "cell_type": "markdown",
   "metadata": {},
   "source": [
    "#### The semi-empirical mass formula: \n",
    "In nuclear physics, the semi-empirical mass formula calculates the approximate nuclear binding energy _B_ of an atomic nucleus with atomic number _Z_ and mass number _A_. The formula reads as:\n"
   ]
  },
  {
   "cell_type": "markdown",
   "metadata": {},
   "source": [
    "\\begin{equation}\n",
    "B = a_1A - a_2A^{2/3} - a_3\\frac{Z^2}{A^{1/3}} - a_4\\frac{(A-2Z)^2}{A}+ \\frac{a_5}{\\sqrt{A}}\n",
    "\\end{equation}"
   ]
  },
  {
   "cell_type": "markdown",
   "metadata": {},
   "source": [
    "where (in units of millions of electron volts, MeV for short), the constants \n",
    "\n",
    "\\begin{equation}\n",
    "a_1 = 15.67\n",
    "\\end{equation}\n",
    "\\begin{equation}\n",
    "a_2 = 17.23\n",
    "\\end{equation}\n",
    "\\begin{equation}\n",
    "a_3 = 0.75\n",
    "\\end{equation}\n",
    "\\begin{equation}\n",
    "a_4 = 93.2 \n",
    "\\end{equation}\n"
   ]
  },
  {
   "cell_type": "markdown",
   "metadata": {},
   "source": [
    "and \\begin{equation}\n",
    "a_5 = \\text{0 if A is odd \\\\\\\\ 12.0  if A and Z are both even, \\\\\\\\ -12.0 if A is even and Z is odd}\n",
    "\\end{equation}"
   ]
  },
  {
   "cell_type": "markdown",
   "metadata": {},
   "source": [
    "Write a program that takes as its input the values of _A_ and _Z_, and prints out "
   ]
  },
  {
   "cell_type": "markdown",
   "metadata": {},
   "source": [
    "(a) the binding energy _B_ for the corresponding atom and "
   ]
  },
  {
   "cell_type": "code",
   "execution_count": 70,
   "metadata": {},
   "outputs": [
    {
     "name": "stdin",
     "output_type": "stream",
     "text": [
      "what is the mass number, A?  58\n",
      "what is the atomic number, Z?:  28\n"
     ]
    },
    {
     "name": "stdout",
     "output_type": "stream",
     "text": [
      "the binding energy is 493.93560680136824 MeV\n"
     ]
    }
   ],
   "source": [
    "#function that returns binding energy\n",
    "def binding(A,Z):\n",
    "    #constants in MeV\n",
    "    a1 = 15.67\n",
    "    a2 = 17.23\n",
    "    a3 = 0.75\n",
    "    a4 = 93.2\n",
    "    #if the remainder of A divided by 2 is 1, it is odd, and a5 is 0\n",
    "    if A%2 == 1:\n",
    "        a5 = 0\n",
    "    #if the remainder of A/2 and Z/2 is 0, its even and a5 is 12\n",
    "    elif A%2 == 0 and Z%2 == 0:\n",
    "        a5 = 12\n",
    "    #if the remainder of A/2 is 0 and Z/2 does not equal 0, a5 is -12\n",
    "    elif A%2 == 0 and Z%2 != 0:\n",
    "        a5 = -12\n",
    "    #binding energy equation\n",
    "    B = (a1 * A  - a2 * A**(2/3) - a3 * (Z**2 / A**(1/3)) - a4 * ((A - 2*Z)**2 / A) + a5 / A**(1/2))\n",
    "    #print binding energy\n",
    "    print(\"the binding energy is\", str(B), \"MeV\")\n",
    "\n",
    "#ask user for input on the mass and atomic number\n",
    "A = float(input(\"what is the mass number, A? \"))\n",
    "Z = int(input(\"what is the atomic number, Z?: \"))\n",
    "\n",
    "binding(A,Z)"
   ]
  },
  {
   "cell_type": "markdown",
   "metadata": {},
   "source": [
    "(b) the binding energy per nucleon, which is _B/A_. "
   ]
  },
  {
   "cell_type": "code",
   "execution_count": 71,
   "metadata": {},
   "outputs": [
    {
     "name": "stdin",
     "output_type": "stream",
     "text": [
      "what is the mass number, A?  58\n",
      "what is the atomic number, Z?:  28\n"
     ]
    },
    {
     "name": "stdout",
     "output_type": "stream",
     "text": [
      "the binding energy per nucleon is 8.516131151747729 MeV\n"
     ]
    }
   ],
   "source": [
    "##function that returns binding energy per nucleon\n",
    "def bindingpernucleon(A,Z):\n",
    "    #constants in MeV\n",
    "    a1 = 15.67\n",
    "    a2 = 17.23\n",
    "    a3 = 0.75\n",
    "    a4 = 93.2\n",
    "    #if the remainder of A divided by 2 is 1, it is odd, and a5 is 0\n",
    "    if A%2 == 1:\n",
    "        a5 = 0\n",
    "    #if the remainder of A/2 and Z/2 is 0, its even and a5 is 12\n",
    "    elif A%2 == 0 and Z%2 == 0:\n",
    "        a5 = 12\n",
    "    #if the remainder of A/2 is 0 and Z/2 does not equal 0, a5 is -12\n",
    "    elif A%2 == 0 and Z%2 != 0:\n",
    "        a5 = -12\n",
    "    #binding energy equation\n",
    "    B = (a1*A-a2 * A**(2/3)-a3*(Z**2 / A**(1/3))-a4 * ((A - 2*Z)**2 / A) + a5 / A**(1/2))\n",
    "    #BdA represents binding energy per nucleon\n",
    "    BdA = B/A\n",
    "    #return binding energy\n",
    "    print(\"the binding energy per nucleon is\", str(BdA), \"MeV\")\n",
    "\n",
    "A = float(input(\"what is the mass number, A? \"))\n",
    "Z = int(input(\"what is the atomic number, Z?: \"))\n",
    "\n",
    "bindingpernucleon(A,Z)"
   ]
  },
  {
   "cell_type": "markdown",
   "metadata": {},
   "source": [
    "Use your program to find the binding energy of an atom with _A_ = 58 and _Z_ = 28. \n",
    "\n",
    "(Hint: the correct answer is around 490 MeV.)"
   ]
  },
  {
   "cell_type": "code",
   "execution_count": 107,
   "metadata": {},
   "outputs": [
    {
     "name": "stdout",
     "output_type": "stream",
     "text": [
      "the binding energy is 493.93560680136824 MeV\n"
     ]
    }
   ],
   "source": [
    "binding(58,28)"
   ]
  },
  {
   "cell_type": "markdown",
   "metadata": {},
   "source": [
    "Use your program to find the binding energy of an atom with A = 58 and Z = 28 \\\n",
    "Answer is the binding energy is 493.93560680136824 MeV"
   ]
  }
 ],
 "metadata": {
  "kernelspec": {
   "display_name": "Python 3 (ipykernel)",
   "language": "python",
   "name": "python3"
  },
  "language_info": {
   "codemirror_mode": {
    "name": "ipython",
    "version": 3
   },
   "file_extension": ".py",
   "mimetype": "text/x-python",
   "name": "python",
   "nbconvert_exporter": "python",
   "pygments_lexer": "ipython3",
   "version": "3.12.1"
  }
 },
 "nbformat": 4,
 "nbformat_minor": 4
}
