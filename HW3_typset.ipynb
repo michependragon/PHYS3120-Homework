{
 "cells": [
  {
   "cell_type": "markdown",
   "metadata": {},
   "source": "# PHYS 3120: Homework 3, Michelle Ukiwe"
  },
  {
   "cell_type": "markdown",
   "metadata": {},
   "source": [
    "### The semi-empirical mass formula revisted\n",
    "As we saw in last week’s homework, the nuclear binding energy _B_ of an atomic nucleus with atomic number _Z_ and mass number A can be calculated to a good approximation using the semi-empirical mass formula:\n",
    "\n",
    "\n",
    "\\begin{equation}\n",
    "B = a_1A - a_2A^{2/3} - a_3\\frac{Z^2}{A^{1/3}} - a_4\\frac{(A-2Z)^2}{A} + \\frac{a_5}{\\sqrt{A}}\n",
    "\\end{equation}\n",
    "\n",
    "where (in units of millions of electron volts, MeV for short), the constants a1 = 15.67, a2 = 17.23, a3 = 0.75, a4 = 93.2, and \n",
    "\\begin{equation}\n",
    "a_5 = \\text{0 if A is odd \\\\\\\\12.0  if A and Z are both even, \\\\\\\\-12.0 if A is even and Z is odd}\n",
    "\\end{equation}\n",
    "\n",
    "Last week, you wrote a program using this formula to calculate the binding energy _B_\n",
    "and binding energy per nucleon _B/A_ for a given _A_ and _Z_.\n",
    "\n"
   ]
  },
  {
   "metadata": {},
   "cell_type": "markdown",
   "source": [
    "__Part a__\n",
    " \n",
    "Starting from that program, modify it so that it takes just a single value of the atomic number _Z_ and then goes through all values of _A = Z → 3Z_, to find the one that has the largest binding energy per nucleon. This is the most stable nucleus with the given atomic number. Have your program print out the value of _A_ for this most stable nucleus and the value of the binding energy per nucleon.\n",
    "\n",
    "_Note:_\n",
    "We expect the most stable nucleus to have _A_ in the vicinity of _2Z_ because most nuclei have about as many neutrons as protons, so going through the values of A from _Z_ to _3Z_ should be enough to find the most stable one."
   ]
  },
  {
   "metadata": {},
   "cell_type": "code",
   "outputs": [],
   "execution_count": null,
   "source": ""
  },
  {
   "cell_type": "markdown",
   "metadata": {},
   "source": [
    "__Part b__ \n",
    "\n",
    "Modify your program again so that instead of taking Z as input, it runs through all values of Z from 1 to 100 and prints out the most stable value of A for each one, along with the corresponding binding energy per nucleon. At what value of Z does the maximum binding energy per nucleon occur?\n",
    "\n",
    "_Hint: The true answer, in reality, is Z = 28, which is nickel. You should find that the semi-empirical mass formula gets the answer roughly right but not exactly._"
   ]
  },
  {
   "metadata": {},
   "cell_type": "code",
   "outputs": [],
   "execution_count": null,
   "source": ""
  },
  {
   "metadata": {},
   "cell_type": "markdown",
   "source": [
    "__Part c__\n",
    "\n",
    "Modify your program one final time to make a graph of the binding energy per nucleon for the most stable nucleus, as a function of Z for values of Z from 1 to 100."
   ]
  },
  {
   "metadata": {},
   "cell_type": "code",
   "outputs": [],
   "execution_count": null,
   "source": ""
  },
  {
   "metadata": {},
   "cell_type": "markdown",
   "source": "For full credit include your answer to parts (a) and (b) and your graph for part (c) in your notebook."
  },
  {
   "metadata": {},
   "cell_type": "markdown",
   "source": [
    "### Plotting experimental data\n",
    "On Canvas (files → course-docs), you will find a file called sunspots.txt, which contains the observed monthly number of sunspots since January 1749. The file contains two columns of numbers, the first being the month and the second being the sunspot number."
   ]
  },
  {
   "metadata": {},
   "cell_type": "markdown",
   "source": [
    "__Part a__\\\n",
    "Write a program that reads in the data and makes a graph of the sunspots as a function of time."
   ]
  },
  {
   "metadata": {},
   "cell_type": "code",
   "outputs": [],
   "execution_count": null,
   "source": ""
  },
  {
   "metadata": {},
   "cell_type": "markdown",
   "source": [
    "__Part b__\\\n",
    "Modify your program to display only the first 1000 data points on the graph."
   ]
  },
  {
   "metadata": {},
   "cell_type": "code",
   "outputs": [],
   "execution_count": null,
   "source": ""
  },
  {
   "metadata": {},
   "cell_type": "markdown",
   "source": [
    "__Part c__\n",
    "Modify your program further to calculate and plot the running average of the data,\n",
    "defined by\n",
    "\\begin{equation}\n",
    "Y_k = \\frac{1}{2r+1} \\sum_{m=-r}^{r} y_k+m\n",
    "\\end{equation}\n",
    "where _r_ = 5 in this case (and the _yk_ values are the sunspot numbers). Have the program plot both the original data and the running average on the same graph, again over the range covered by the first 1000 data points."
   ]
  },
  {
   "metadata": {},
   "cell_type": "markdown",
   "source": [
    "### Curve Plotting\n",
    "\n",
    "Although the plot function is designed primarily for plotting standard _xy_-graphs, it can be adapted for other kinds of plotting as well.\n"
   ]
  },
  {
   "metadata": {},
   "cell_type": "markdown",
   "source": [
    "__Part a__\\\n",
    "Make a plot of the so-called _deltoid_ curve, which is defined parametrically by the equations\n",
    "\\begin{equation}\n",
    "x = 2cos θ + cos2θ \n",
    "\\end{equation}\n",
    "\\begin{equation}\n",
    "y = 2sinθ -sin2θ \n",
    "\\end{equation}\n",
    "where 0≤θ≤2π.Take a set of values of _θ_ between zero and _2π_ and calculate _x_ and _y_ for each from the equations above, then plot _y_ as a function of _x_."
   ]
  },
  {
   "metadata": {},
   "cell_type": "code",
   "outputs": [],
   "execution_count": null,
   "source": ""
  },
  {
   "metadata": {},
   "cell_type": "markdown",
   "source": [
    "__Part b__\\\n",
    "Taking the approach a step further, one can make a polar plot _r = f(θ)_ for some function f by calculate _r_ for a range of values of _θ_ and then converting _r_ and _θ_ to Cartesian coordinate using the standard equation _x = r_ cos θ, _y = r sinθ_. Use this method to make a plot of the Galilean spiral _r=θ^2_ for _0 ≤ θ ≤ 10π_.\n",
    "\n"
   ]
  },
  {
   "metadata": {},
   "cell_type": "code",
   "outputs": [],
   "execution_count": null,
   "source": ""
  },
  {
   "metadata": {},
   "cell_type": "markdown",
   "source": [
    "__Part c__\\\n",
    "Using the same method, make a polar plot of “Fey’s function”\n",
    "\\begin{equation}\n",
    "r = e^{\\cos\\theta} - 2\\cos4\\theta+ \\sin^5\\frac{\\theta}{12}\n",
    "\\end{equation}\n",
    "in the range _0 ≤ θ ≤ 24π_."
   ]
  },
  {
   "metadata": {},
   "cell_type": "code",
   "outputs": [],
   "execution_count": null,
   "source": ""
  },
  {
   "metadata": {},
   "cell_type": "markdown",
   "source": " For full credit include graphs for all three parts (a, b, c) and label your axes."
  }
 ],
 "metadata": {
  "kernelspec": {
   "display_name": "Python 3 (ipykernel)",
   "language": "python",
   "name": "python3"
  },
  "language_info": {
   "codemirror_mode": {
    "name": "ipython",
    "version": 3
   },
   "file_extension": ".py",
   "mimetype": "text/x-python",
   "name": "python",
   "nbconvert_exporter": "python",
   "pygments_lexer": "ipython3",
   "version": "3.10.12"
  }
 },
 "nbformat": 4,
 "nbformat_minor": 4
}
