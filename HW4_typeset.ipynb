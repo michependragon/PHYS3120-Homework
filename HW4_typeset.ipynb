{
 "cells": [
  {
   "cell_type": "markdown",
   "metadata": {},
   "source": [
    "# PHYS 3120: Homework 4, Michelle Ukiwe"
   ]
  },
  {
   "cell_type": "markdown",
   "metadata": {},
   "source": [
    "### Adaptive integration \n",
    "\n",
    "Consider the integral\n",
    "\n",
    "\\begin{equation}\n",
    "I = \\int_0^1 \\sin^2\\sqrt{100x} dx\n",
    "\\end{equation}\n",
    "\n",
    "__(a)__\\\n",
    "Write a program that uses the adaptive trapezoidal rule method (Section 5.3\n",
    "in the book) to calculate the value of this integral to an approximate accuracy of \u000f = 10−6.\n",
    "Start with one single integration slice (N = 1) and work up from there to 2, 4, 8, and so\n",
    "forth. Have your program print out the number of slices, its estimate of the integral, and\n",
    "its estimate of the error on the integral, for each value of the number of slices N , until the\n",
    "target accuracy is reached. Hint: The result should be around 0.45\n"
   ]
  },
  {
   "cell_type": "code",
   "execution_count": null,
   "metadata": {
    "collapsed": false,
    "jupyter": {
     "outputs_hidden": false
    }
   },
   "outputs": [],
   "source": []
  },
  {
   "cell_type": "markdown",
   "metadata": {},
   "source": [
    "__(b)__\n",
    "\n",
    "Now modify your program (i.e. copy-paste the program blocks to another\n",
    "section in the Jupyter notebook) to evaluate the same integral using the Romberg integration\n",
    "technique. Have your program print out a triangular table of Romberg estimates of the\n",
    "integral (Ri,j ) for each step, as we discussed in class. Calculate the error on your estimates\n",
    "using the error term cmh2m given in the class, notes, and book. Continue the calculation\n",
    "until you reach an accuracy of 10^−6. You should find that the Romberg method reaches\n",
    "the required accuracy considerably faster than the trapezoidal rule alone"
   ]
  },
  {
   "cell_type": "code",
   "execution_count": null,
   "metadata": {},
   "outputs": [],
   "source": []
  },
  {
   "cell_type": "markdown",
   "metadata": {},
   "source": [
    "For full credit in each part, include your program with comments and the requested\n",
    "information when refining your solution in each doubling of N . In part (b), you must print\n",
    "out each of the Romberg estimates in each ith step."
   ]
  },
  {
   "cell_type": "code",
   "execution_count": null,
   "metadata": {},
   "outputs": [],
   "source": []
  },
  {
   "cell_type": "markdown",
   "metadata": {},
   "source": [
    "### Heat capacity of a solid \n",
    "Debye's theory of solids gives the heat capacity of a solid at temperature _T_ to be\n",
    "\\begin{equation}\n",
    "C_V = 9V \\rho k_B (\\frac{T}{\\theta_D})^3 \\int_0^{{\\theta_D}/T}\\frac{x^4e^x}{(e^x-1)^2}dx\n",
    "\\end{equation}\n",
    "\n",
    "where _V_ is the volume of the solid, ρ is the number density of atoms, kB is Boltzmann’s constant, and θD is the _Debye temperature_, a property of solids that depends on their density and sound speed.\n",
    "\n",
    "__(a)__ (10 points) Write a Python function cv(T) that calculates CV for a given value of the temperature, for a sample consisting of 1000 cubic centimeters of solid aluminum, which has a number density of ρ = 6.022 × 10^28 m−3 and a Debye temperature θD = 428 K. Use Gaussian quadrature to evaluate the integral with N = 50 sample points. You may use the routines in the file __gaussxb.py__ that we used in class and is available on Canvas."
   ]
  },
  {
   "cell_type": "code",
   "execution_count": null,
   "metadata": {},
   "outputs": [],
   "source": []
  },
  {
   "cell_type": "markdown",
   "metadata": {},
   "source": [
    "### Wave Diffraction\n",
    "Suppose a plane wave of wavelength λ, such as light or a sound wave, is blocked by an object with a straight edge \\\n",
    "The wave will be diffracted at the edge, and the resulting intensity at the position (x, z) marked by the dot is given by near-field diffraction theory to be\n",
    "\\begin{equation}\n",
    "I = \\frac{I_0}{8}{([2C(u)+1]}^2 + [2S(u)+1]^2)\n",
    "\\end{equation}\n",
    "\n",
    "Where\n",
    "\\begin{equation}\n",
    "I_0\n",
    "\\end{equation}\n",
    "is the intensity of the wave before diffraction and\n",
    "\n",
    "\\begin{equation}\n",
    "u = x \\sqrt{\\frac{2}{\\lambda z}}\n",
    "\\end{equation}\n",
    "\\begin{equation}\n",
    "C(u) = \\int_0^u \\cos(\\pi t^2/2)dt\n",
    "\\end{equation}\n",
    "\\begin{equation}\n",
    "S(u) = \\int_0^u \\sin(\\pi t^2/2)dt\n",
    "\\end{equation}\n",
    "\n",
    "Write a program to calculate I/I0 and make a plot of it as a function of x in the range [−5 m,+5 m] for the case of a sound wave with wavelength λ = 1 m, measured z = 3 m past the straight edge. Calculate the integrals using Gaussian quadrature with N = 50 points. You should find significant variation in the intensity of the diffracted sound—enough that you could easily hear the effect if sound were diffracted, say, at the edge of a tall building."
   ]
  },
  {
   "cell_type": "markdown",
   "metadata": {},
   "source": [
    "### The Stefan-Boltzman constant\n",
    "The Planck theory of thermal radiation tells us that in the (angular) frequency interval ω to ω + dω, a blackbody of unit area radiates electromagnetically an amount of thermal energy per second equal to I(ω) dω, where\n",
    "\n",
    "\\begin{equation}\n",
    "I(ω) = \\frac{\\hbar}{4\\pi^2c^2}  \\frac{ω^3}{e^{\\hbarω/k_BT}-1}\n",
    "\\end{equation}\n",
    "\n",
    "Here h~ is Planck’s constant over 2π, c is the speed of light, and kB is Boltzmann’s constant.\n",
    "\n",
    "__(a)__\n",
    "\n",
    "Show that the total energy per unit area radiated by a blackbody is\n",
    "\\begin{equation}\n",
    "W = \\frac{k_B^4T^4}{4\\pi^2c^2\\hbar^3} \\int_0^\\infty \\frac{x^3}{e^x-1} dx\n",
    "\\end{equation}\n",
    "You can either writeup your derivation in a markdown box with LATEX or scan your work\n",
    "and embed the image in the notebook."
   ]
  },
  {
   "cell_type": "code",
   "execution_count": null,
   "metadata": {},
   "outputs": [],
   "source": []
  },
  {
   "cell_type": "markdown",
   "metadata": {},
   "source": [
    "__(b)__ Write a program to evaluate the integral in this expression. Explain what method you use, and how accurate you think your answer is."
   ]
  },
  {
   "cell_type": "code",
   "execution_count": null,
   "metadata": {},
   "outputs": [],
   "source": []
  },
  {
   "cell_type": "markdown",
   "metadata": {},
   "source": [
    "(c) Even before Planck gave his theory of thermal radiation around the turn of the 20th century, it was known that the total energy W given off by a blackbody per unit area per second followed Stefan’s law: \n",
    "\\begin{equation}\n",
    "W = σ_BT^4\n",
    "\\end{equation}\n",
    "where σB is the Stefan-Boltzmann constant. Use your value for the integral above to compute a value for the σB (in SI units) to three significant figures. Check your result against the known value, which you can find in books or online. You should get good agreement.\n",
    "\n",
    "For full credit, include your derivative in part (a), program with comments and expla- nation in part (b), and comparison in part (c)."
   ]
  },
  {
   "cell_type": "code",
   "execution_count": null,
   "metadata": {},
   "outputs": [],
   "source": []
  }
 ],
 "metadata": {
  "kernelspec": {
   "display_name": "Python 3 (ipykernel)",
   "language": "python",
   "name": "python3"
  },
  "language_info": {
   "codemirror_mode": {
    "name": "ipython",
    "version": 3
   },
   "file_extension": ".py",
   "mimetype": "text/x-python",
   "name": "python",
   "nbconvert_exporter": "python",
   "pygments_lexer": "ipython3",
   "version": "3.12.1"
  }
 },
 "nbformat": 4,
 "nbformat_minor": 4
}
