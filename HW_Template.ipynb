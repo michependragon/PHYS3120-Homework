{
 "cells": [
  {
   "cell_type": "markdown",
   "metadata": {},
   "source": [
    "# PHYS 6260: Homework 1, Your name"
   ]
  },
  {
   "cell_type": "markdown",
   "metadata": {},
   "source": [
    "## Problem 1\n",
    "\n",
    "You can write your assumptions and a description of the code here before presenting it.\n",
    "* Physics is great\n",
    "* Computers are fast\n",
    "* CompPhys cannot wait\n",
    "* Paper is the past\n",
    "\n",
    "You can also include LaTeX inline.\n",
    "\\begin{equation}\n",
    "z = \\int_0^a x^2 dx\n",
    "\\end{equation}\n",
    "\n",
    "See http://en.wikibooks.org/wiki/LaTeX/Mathematics for a tutorial on typesetting math with LaTeX."
   ]
  },
  {
   "cell_type": "markdown",
   "metadata": {},
   "source": [
    "### Part (a)"
   ]
  },
  {
   "cell_type": "code",
   "execution_count": 2,
   "metadata": {
    "collapsed": false,
    "jupyter": {
     "outputs_hidden": false
    }
   },
   "outputs": [
    {
     "name": "stdout",
     "output_type": "stream",
     "text": [
      "The answer is 512.0000\n"
     ]
    }
   ],
   "source": [
    "from math import *\n",
    "x = 8.\n",
    "y = 3.\n",
    "z = x**y\n",
    "print(f\"The answer is {z:.4f}\")"
   ]
  },
  {
   "cell_type": "markdown",
   "metadata": {},
   "source": [
    "### Part (b)"
   ]
  },
  {
   "cell_type": "code",
   "execution_count": 3,
   "metadata": {
    "collapsed": false,
    "jupyter": {
     "outputs_hidden": false
    }
   },
   "outputs": [
    {
     "name": "stdout",
     "output_type": "stream",
     "text": [
      "a = 512.0\n"
     ]
    }
   ],
   "source": [
    "# Inline comment\n",
    "a = z*log(z)\n",
    "print(f\"a = {z}\")"
   ]
  },
  {
   "cell_type": "markdown",
   "metadata": {},
   "source": [
    "### Part (c)\n",
    "If a written answer (not code) is requested, then type it up in a markdown box, like this."
   ]
  },
  {
   "cell_type": "markdown",
   "metadata": {},
   "source": [
    "And we conclude."
   ]
  },
  {
   "cell_type": "markdown",
   "metadata": {},
   "source": [
    "## Problem 2\n",
    "... and so on."
   ]
  },
  {
   "cell_type": "code",
   "execution_count": 4,
   "metadata": {
    "collapsed": false,
    "jupyter": {
     "outputs_hidden": false
    }
   },
   "outputs": [
    {
     "name": "stdout",
     "output_type": "stream",
     "text": [
      "182.0\n"
     ]
    }
   ],
   "source": [
    "prob2_answer = 182.\n",
    "print(prob2_answer)"
   ]
  },
  {
   "cell_type": "code",
   "execution_count": null,
   "metadata": {},
   "outputs": [],
   "source": []
  }
 ],
 "metadata": {
  "kernelspec": {
   "display_name": "Python 3 (ipykernel)",
   "language": "python",
   "name": "python3"
  },
  "language_info": {
   "codemirror_mode": {
    "name": "ipython",
    "version": 3
   },
   "file_extension": ".py",
   "mimetype": "text/x-python",
   "name": "python",
   "nbconvert_exporter": "python",
   "pygments_lexer": "ipython3",
   "version": "3.10.6"
  }
 },
 "nbformat": 4,
 "nbformat_minor": 4
}
