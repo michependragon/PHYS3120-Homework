{
 "cells": [
  {
   "cell_type": "markdown",
   "metadata": {},
   "source": [
    "<span style=\" font-family: Babas; font-size: 2em;\">Michelle Ukiwe  - Homework 2\n"
   ]
  },
  {
   "cell_type": "markdown",
   "metadata": {},
   "source": [
    "#### Altitude of a satellite:\n",
    "A satellite is to be launched into a circular orbit around the Earth so that it orbits the planet once every _T_ seconds. Treating the Earth as a perfect sphere with its center of mass in the middle (which is only approximately correct), it can shown with classical mechanics that the altitude _h_ above the Earth’s surface must be \n",
    "\\begin{equation}\n",
    "h = (\\frac{GMT^2}{4\\pi^2})^\\frac{1}{3} - R\n",
    "\\end{equation}\n",
    "\n",
    "\n",
    "\n"
   ]
  },
  {
   "cell_type": "markdown",
   "metadata": {},
   "source": [
    "where \\begin{equation}\n",
    "G = 6.67 × 10^{−11} m^3 kg^{-1} s^{−2} \n",
    "\\end{equation}\n",
    "\n",
    "is Newton’s gravitational constant, \n",
    "\\begin{equation}\n",
    "M = 5.97 × 10^{24} kg\n",
    "\\end{equation}is the Earth's mass, and \n",
    "\n",
    "\\begin{equation}\n",
    "R = 6371  km \n",
    "\\end{equation}\n",
    "is its radius."
   ]
  },
  {
   "cell_type": "markdown",
   "metadata": {},
   "source": [
    "__Part (a)__\\\n",
    "Write a program that asks the user to enter the desired value of _T_ and then calculates and prints out the corresponding altitude in meters"
   ]
  },
  {
   "cell_type": "code",
   "execution_count": null,
   "metadata": {
    "collapsed": false,
    "jupyter": {
     "outputs_hidden": false
    }
   },
   "outputs": [],
   "source": []
  },
  {
   "cell_type": "markdown",
   "metadata": {},
   "source": [
    "__Part (b)__\\\n",
    "Use your program to calculate the altitudes of satellites that orbit the Earth once a day (so-called “geosynchronous” orbit), once every 90 minutes, and once every 45 minutes. What do you conclude from the last of these calculations?"
   ]
  },
  {
   "cell_type": "code",
   "execution_count": null,
   "metadata": {
    "collapsed": false,
    "jupyter": {
     "outputs_hidden": false
    }
   },
   "outputs": [],
   "source": []
  },
  {
   "cell_type": "markdown",
   "metadata": {},
   "source": [
    "__Part (c)__\\\n",
    "Technically a geosynchronous satellite is one that orbits the Earth once per _sidereal day_, which is 23.93 hours not 24 hours. Why is this? How much difference will it make to the altitude of the satellite?"
   ]
  },
  {
   "cell_type": "code",
   "execution_count": null,
   "metadata": {},
   "outputs": [],
   "source": []
  },
  {
   "cell_type": "markdown",
   "metadata": {},
   "source": [
    "For full credit, include all of your commented work for part (a), the output of the three runs (part b) of the program showing the three answers it produces, and your answers to the questions in parts (b) and (c) in markdown blocks."
   ]
  },
  {
   "cell_type": "markdown",
   "metadata": {},
   "source": [
    "#### Special relativity:\n",
    "A spaceship travels from Earth in a straight line at a relativistic speed v to another planet x light-years away. Time dilation is a special relativistic effect. An observer with some speed v relative to another observer will experience time progressing at a slower rate. Let ∆t′ be the time interval for the moving frame, and ∆t be the rest frame. They are related through \n"
   ]
  },
  {
   "cell_type": "markdown",
   "metadata": {},
   "source": [
    "\\begin{equation}\n",
    "∆t^′ = ∆t(1-\\frac{v^2}{c^2})^{1/2}\n",
    "\\end{equation}"
   ]
  },
  {
   "cell_type": "markdown",
   "metadata": {},
   "source": [
    "Write a program to ask the user for the value of _x_ and the speed _v_ as a fraction of the speed of light _c_. Print out the time in years that the spaceship takes to reach its destination "
   ]
  },
  {
   "cell_type": "markdown",
   "metadata": {},
   "source": [
    "__Part (a)__ \\\n",
    "in the rest frame of an observer on Earth "
   ]
  },
  {
   "cell_type": "code",
   "execution_count": null,
   "metadata": {},
   "outputs": [],
   "source": []
  },
  {
   "cell_type": "markdown",
   "metadata": {},
   "source": [
    "__Part (b)__\\\n",
    "as perceived by a passenger on board the ship. "
   ]
  },
  {
   "cell_type": "code",
   "execution_count": null,
   "metadata": {},
   "outputs": [],
   "source": []
  },
  {
   "cell_type": "markdown",
   "metadata": {},
   "source": [
    "Use your program to calculate the answers for a planet 10 light-years away with v = 0.99c."
   ]
  },
  {
   "cell_type": "code",
   "execution_count": null,
   "metadata": {},
   "outputs": [],
   "source": []
  },
  {
   "cell_type": "markdown",
   "metadata": {},
   "source": [
    "For full credit include all of your commented work, including the answers it returns. Your program should calculate several unit conversions for the user, so pay close attention to these conversions."
   ]
  },
  {
   "cell_type": "markdown",
   "metadata": {},
   "source": [
    "#### The semi-empirical mass formula: \n",
    "In nuclear physics, the semi-empirical mass formula calculates the approximate nuclear binding energy _B_ of an atomic nucleus with atomic number _Z_ and mass number _A_. The formula reads as:\n"
   ]
  },
  {
   "cell_type": "markdown",
   "metadata": {},
   "source": [
    "\\begin{equation}\n",
    "B = a_1A - a_2A^{2/3} - a_3\\frac{Z^2}{A^{1/3}} - a_4\\frac{(A-2Z)^2}{A}+ \\frac{a_5}{A^{1/2}}\n",
    "\\end{equation}"
   ]
  },
  {
   "cell_type": "markdown",
   "metadata": {},
   "source": [
    "where (in units of millions of electron volts, MeV for short), the constants \n",
    "\n",
    "\\begin{equation}\n",
    "a_1 = 15.67\n",
    "\\end{equation}\n",
    "\\begin{equation}\n",
    "a_2 = 17.23\n",
    "\\end{equation}\n",
    "\\begin{equation}\n",
    "a_3 = 0.75\n",
    "\\end{equation}\n",
    "\\begin{equation}\n",
    "a_4 = 93.2 \n",
    "\\end{equation}\n"
   ]
  },
  {
   "cell_type": "markdown",
   "metadata": {},
   "source": [
    "and \\begin{equation}\n",
    "a_5 = \\text{0 if A is odd \\\\\\\\ 12.0  if A and Z are both even, \\\\\\\\ -12.0 if A is even and Z is odd}\n",
    "\\end{equation}"
   ]
  },
  {
   "cell_type": "markdown",
   "metadata": {},
   "source": [
    "Write a program that takes as its input the values of _A_ and _Z_, and prints out "
   ]
  },
  {
   "cell_type": "markdown",
   "metadata": {},
   "source": [
    "(a) the binding energy _B_ for the corresponding atom and "
   ]
  },
  {
   "cell_type": "code",
   "execution_count": null,
   "metadata": {},
   "outputs": [],
   "source": []
  },
  {
   "cell_type": "markdown",
   "metadata": {},
   "source": [
    "(b) the binding energy per nucleon, which is _B/A_. "
   ]
  },
  {
   "cell_type": "code",
   "execution_count": null,
   "metadata": {},
   "outputs": [],
   "source": []
  },
  {
   "cell_type": "markdown",
   "metadata": {},
   "source": [
    "Use your program to find the binding energy of an atom with _A_ = 58 and _Z_ = 28. \n",
    "\n",
    "(Hint: the correct answer is around 490 MeV.)"
   ]
  },
  {
   "cell_type": "code",
   "execution_count": null,
   "metadata": {},
   "outputs": [],
   "source": []
  },
  {
   "cell_type": "markdown",
   "metadata": {},
   "source": [
    "For full credit, include all of your commented work, including the answers it returns."
   ]
  },
  {
   "cell_type": "code",
   "execution_count": null,
   "metadata": {},
   "outputs": [],
   "source": []
  }
 ],
 "metadata": {
  "kernelspec": {
   "display_name": "Python 3 (ipykernel)",
   "language": "python",
   "name": "python3"
  },
  "language_info": {
   "codemirror_mode": {
    "name": "ipython",
    "version": 3
   },
   "file_extension": ".py",
   "mimetype": "text/x-python",
   "name": "python",
   "nbconvert_exporter": "python",
   "pygments_lexer": "ipython3",
   "version": "3.12.1"
  }
 },
 "nbformat": 4,
 "nbformat_minor": 4
}
